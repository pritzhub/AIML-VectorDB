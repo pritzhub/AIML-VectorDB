{
 "cells": [
  {
   "cell_type": "code",
   "execution_count": 1,
   "id": "06e2c24d-7994-407e-881c-eeba9bfd8aff",
   "metadata": {},
   "outputs": [],
   "source": [
    "import csv\n",
    "\n",
    "with open('items.csv') as file:\n",
    "    lines = csv.reader(file)\n",
    "\n",
    "    documents = []\n",
    "    metadatas = []\n",
    "    ids = []\n",
    "    id = 1\n",
    "\n",
    "    for i, line in enumerate(lines):\n",
    "        if i==0:\n",
    "            continue\n",
    "        documents.append(line[1])\n",
    "        metadatas.append({\"item_id\": line[0]})\n",
    "        ids.append(str(id))\n",
    "        id+=1"
   ]
  },
  {
   "cell_type": "code",
   "execution_count": null,
   "id": "d86dc506-6fea-494c-8cdb-9d3b2ca030fd",
   "metadata": {},
   "outputs": [],
   "source": [
    "!pip install -U sentence-transformers"
   ]
  },
  {
   "cell_type": "code",
   "execution_count": null,
   "id": "bd4bb461-5207-4442-9eb8-27b7ce9c3a5e",
   "metadata": {},
   "outputs": [],
   "source": [
    "!pip install hf_xet"
   ]
  },
  {
   "cell_type": "code",
   "execution_count": null,
   "id": "ab3b2afd-c805-4590-8ae8-52b6f4b0ff6b",
   "metadata": {},
   "outputs": [],
   "source": [
    "documents"
   ]
  },
  {
   "cell_type": "code",
   "execution_count": 2,
   "id": "c91363ed-1a4f-4e0d-96a3-a33cfc180c75",
   "metadata": {},
   "outputs": [
    {
     "name": "stderr",
     "output_type": "stream",
     "text": [
      "C:\\Program Files\\Python313\\Lib\\site-packages\\tqdm\\auto.py:21: TqdmWarning: IProgress not found. Please update jupyter and ipywidgets. See https://ipywidgets.readthedocs.io/en/stable/user_install.html\n",
      "  from .autonotebook import tqdm as notebook_tqdm\n"
     ]
    }
   ],
   "source": [
    "import chromadb\n",
    "from chromadb.utils import embedding_functions\n",
    "from sentence_transformers import SentenceTransformer\n",
    "\n"
   ]
  },
  {
   "cell_type": "code",
   "execution_count": 4,
   "id": "d6703d6b-b4d9-424f-93b5-9e588c77402c",
   "metadata": {},
   "outputs": [],
   "source": [
    "sentence_transformer_ef = embedding_functions.SentenceTransformerEmbeddingFunction(\n",
    "    model_name=\"all-mpnet-base-v2\"\n",
    ")"
   ]
  },
  {
   "cell_type": "code",
   "execution_count": 5,
   "id": "566fd134-4324-43ca-9a47-ec95f96779e2",
   "metadata": {},
   "outputs": [],
   "source": [
    "## Trying to create a new client but this time on local machine under the folder called vectordb and database name is my_local_collection\n",
    "client = chromadb.PersistentClient(path=\"vectordb\")"
   ]
  },
  {
   "cell_type": "code",
   "execution_count": 7,
   "id": "55942340-7023-44d0-b4ba-550cef3bd75f",
   "metadata": {},
   "outputs": [
    {
     "data": {
      "text/plain": [
       "{'ids': [['136', '110', '87', '85', '84']],\n",
       " 'embeddings': None,\n",
       " 'documents': [['Kung Pao Vegan Prawns',\n",
       "   'Salt and Pepper Vegan Prawns',\n",
       "   'Vegan Kung Pao Prawns',\n",
       "   'Vegan Prawns and Mushrooms with Black Pepper Sauce',\n",
       "   'Vegan Prawns with Mixed Nuts']],\n",
       " 'uris': None,\n",
       " 'included': ['distances', 'metadatas', 'documents'],\n",
       " 'data': None,\n",
       " 'metadatas': [[{'item_id': 'L26'},\n",
       "   {'item_id': 'E85'},\n",
       "   {'item_id': 'E57'},\n",
       "   {'item_id': 'E54'},\n",
       "   {'item_id': 'E53'}]],\n",
       " 'distances': [[1.0265746116638184,\n",
       "   1.0550684928894043,\n",
       "   1.0640243291854858,\n",
       "   1.0747108459472656,\n",
       "   1.136853575706482]]}"
      ]
     },
     "execution_count": 7,
     "metadata": {},
     "output_type": "execute_result"
    }
   ],
   "source": [
    "client.delete_collection(name=\"my_local_collection\") ## This must be deleted if exists or do not create again and again\n",
    "\n",
    "local_collections = client.create_collection(name=\"my_local_collection\", embedding_function=sentence_transformer_ef)\n",
    "local_collections.add(\n",
    "    documents=documents,\n",
    "    metadatas=metadatas,\n",
    "    ids=ids\n",
    ")\n",
    "results_local = local_collections.query(\n",
    "    query_texts=[\"shrimp\"],\n",
    "    n_results=5,\n",
    "    include=['distances','metadatas','documents']\n",
    ")\n",
    "\n",
    "results_local"
   ]
  },
  {
   "cell_type": "code",
   "execution_count": 8,
   "id": "2e6d6255-526c-42e3-832d-ed0f751ac5ee",
   "metadata": {},
   "outputs": [],
   "source": [
    "## Trying to create a new client but this time NOT on local machine database name is my_collection\n",
    "\n",
    "chroma_client = chromadb.Client()"
   ]
  },
  {
   "cell_type": "code",
   "execution_count": 11,
   "id": "88733b79-3586-44fc-8b21-a3338acc2032",
   "metadata": {},
   "outputs": [],
   "source": [
    "chroma_client.delete_collection(name=\"my_collection\") ## This must be deleted if exists or do not create again and again\n",
    "collections = chroma_client.create_collection(name=\"my_collection\", embedding_function=sentence_transformer_ef)"
   ]
  },
  {
   "cell_type": "code",
   "execution_count": 12,
   "id": "c27c9ea9-b141-4978-9c73-21c12872e62d",
   "metadata": {},
   "outputs": [],
   "source": [
    "#collections.add(\n",
    "#    documents=[\"This is a document\", \"This is another document\"],\n",
    "#    metadatas=[{\"source\":\"my_source\"},{\"source\":\"my_source\"}],\n",
    "#    ids=[\"id1\",\"id2\"]\n",
    "#)\n",
    "\n",
    "collections.add(\n",
    "    documents=documents,\n",
    "    metadatas=metadatas,\n",
    "    ids=ids\n",
    ")"
   ]
  },
  {
   "cell_type": "code",
   "execution_count": 13,
   "id": "44e5a0c4-df5a-4631-80c3-4f468f853b1a",
   "metadata": {},
   "outputs": [],
   "source": [
    "results = collections.query(\n",
    "    query_texts=[\"shrimp\"],\n",
    "    n_results=5,\n",
    "    include=['distances','metadatas','documents']\n",
    ")"
   ]
  },
  {
   "cell_type": "code",
   "execution_count": 14,
   "id": "bc14c4b6-c928-44f8-b264-b301f31c029d",
   "metadata": {},
   "outputs": [
    {
     "data": {
      "text/plain": [
       "{'ids': [['136', '110', '87', '85', '84']],\n",
       " 'embeddings': None,\n",
       " 'documents': [['Kung Pao Vegan Prawns',\n",
       "   'Salt and Pepper Vegan Prawns',\n",
       "   'Vegan Kung Pao Prawns',\n",
       "   'Vegan Prawns and Mushrooms with Black Pepper Sauce',\n",
       "   'Vegan Prawns with Mixed Nuts']],\n",
       " 'uris': None,\n",
       " 'included': ['distances', 'metadatas', 'documents'],\n",
       " 'data': None,\n",
       " 'metadatas': [[{'item_id': 'L26'},\n",
       "   {'item_id': 'E85'},\n",
       "   {'item_id': 'E57'},\n",
       "   {'item_id': 'E54'},\n",
       "   {'item_id': 'E53'}]],\n",
       " 'distances': [[1.0265746116638184,\n",
       "   1.0550684928894043,\n",
       "   1.0640243291854858,\n",
       "   1.0747108459472656,\n",
       "   1.136853575706482]]}"
      ]
     },
     "execution_count": 14,
     "metadata": {},
     "output_type": "execute_result"
    }
   ],
   "source": [
    "results"
   ]
  },
  {
   "cell_type": "code",
   "execution_count": null,
   "id": "75c1bc68-4f6a-4d78-8a80-f88eb29d158a",
   "metadata": {},
   "outputs": [],
   "source": []
  }
 ],
 "metadata": {
  "kernelspec": {
   "display_name": "Python 3 (ipykernel)",
   "language": "python",
   "name": "python3"
  },
  "language_info": {
   "codemirror_mode": {
    "name": "ipython",
    "version": 3
   },
   "file_extension": ".py",
   "mimetype": "text/x-python",
   "name": "python",
   "nbconvert_exporter": "python",
   "pygments_lexer": "ipython3",
   "version": "3.13.3"
  }
 },
 "nbformat": 4,
 "nbformat_minor": 5
}
